{
 "cells": [
  {
   "cell_type": "markdown",
   "id": "5cfed02d",
   "metadata": {},
   "source": [
    "## Intro \n",
    "\n",
    "Stax is a simple python module stored in one `.py` [file](https://jax.readthedocs.io/en/latest/_modules/jax/example_libraries/stax.html#BatchNorm). It includes simple functions that implement layers such as `Dense` and `Conv1d`. The key difference here is that Stax complies with the fundamental Jax paradigm: everything is done in functions (no OOP classes). This is inherently a good idea because a neural network is simply a parameterized function that applies some transformation to a given input to produce an output: it is just a function. The reason why most libraries such as PyTorch use OOP modules for NN's, is not just a function... it is a *parameterized* function. Classes allow us to store **state** + **function**. But however, stax takes the approach of using just functions for each layer by using the \"\"`init` and `apply`\" approach. "
   ]
  },
  {
   "cell_type": "markdown",
   "id": "2b210e7a",
   "metadata": {},
   "source": [
    "Here is an example: \n",
    "\n",
    "```python\n",
    "def Dense(out_dim, W_init=glorot_normal(), b_init=normal()):\n",
    "  \"\"\"Layer constructor function for a dense (fully-connected) layer.\"\"\"\n",
    "  def init_fun(rng, input_shape):\n",
    "    output_shape = input_shape[:-1] + (out_dim,)\n",
    "    k1, k2 = random.split(rng)\n",
    "    W, b = W_init(k1, (input_shape[-1], out_dim)), b_init(k2, (out_dim,))\n",
    "    return output_shape, (W, b)\n",
    "  def apply_fun(params, inputs, **kwargs):\n",
    "    W, b = params\n",
    "    return jnp.dot(inputs, W) + b\n",
    "  return init_fun, apply_fun\n",
    "```"
   ]
  },
  {
   "cell_type": "markdown",
   "id": "098a0e53",
   "metadata": {},
   "source": [
    "Here, we return two functions, one for returning the initialized params and the other to take in data + the params to apply the function to real inputs. "
   ]
  },
  {
   "cell_type": "code",
   "execution_count": 5,
   "id": "deafc6a8",
   "metadata": {},
   "outputs": [],
   "source": [
    "from jax.example_libraries import stax"
   ]
  },
  {
   "cell_type": "code",
   "execution_count": 6,
   "id": "ec2d716d",
   "metadata": {},
   "outputs": [],
   "source": [
    "init_fun, apply_fun = stax.Dense(1)"
   ]
  },
  {
   "cell_type": "code",
   "execution_count": 16,
   "id": "12b4ad02",
   "metadata": {},
   "outputs": [],
   "source": [
    "import jax.numpy as jnp\n",
    "import numpy as np\n",
    "dummy_x = jnp.array(np.random.rand(3,2))"
   ]
  },
  {
   "cell_type": "code",
   "execution_count": 17,
   "id": "e54bce09",
   "metadata": {},
   "outputs": [
    {
     "data": {
      "text/plain": [
       "((3, 1),\n",
       " (DeviceArray([[ 0.57130516],\n",
       "               [-0.59154177]], dtype=float32),\n",
       "  DeviceArray([0.01369469], dtype=float32)))"
      ]
     },
     "execution_count": 17,
     "metadata": {},
     "output_type": "execute_result"
    }
   ],
   "source": [
    "from jax import random, numpy as np\n",
    "\n",
    "key = random.PRNGKey(42)\n",
    "\n",
    "init_fun(key, input_shape=(dummy_x.shape))"
   ]
  },
  {
   "cell_type": "markdown",
   "id": "d84cbf58",
   "metadata": {},
   "source": [
    "- `init` returns the params shape and the actual params based on the shape of the input. \n",
    "- `apply` takes in the params and the input to transform and returns the output. "
   ]
  },
  {
   "cell_type": "markdown",
   "id": "94c16be4",
   "metadata": {},
   "source": [
    "To-do: chaining together layers with the goal of outputting one pair of init and apply (i.e., a model!). "
   ]
  }
 ],
 "metadata": {
  "kernelspec": {
   "display_name": "Python 3 (ipykernel)",
   "language": "python",
   "name": "python3"
  },
  "language_info": {
   "codemirror_mode": {
    "name": "ipython",
    "version": 3
   },
   "file_extension": ".py",
   "mimetype": "text/x-python",
   "name": "python",
   "nbconvert_exporter": "python",
   "pygments_lexer": "ipython3",
   "version": "3.9.13"
  }
 },
 "nbformat": 4,
 "nbformat_minor": 5
}
